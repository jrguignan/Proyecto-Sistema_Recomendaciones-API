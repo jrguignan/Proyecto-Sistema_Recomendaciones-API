{
 "cells": [
  {
   "cell_type": "code",
   "execution_count": 1,
   "metadata": {},
   "outputs": [],
   "source": [
    "#Importacion de las librerias\n",
    "import pandas as pd\n",
    "import os\n",
    "import matplotlib.pyplot as plt\n",
    "\n",
    "#Para el analisis de sentimiento\n",
    "import nltk\n",
    "from nltk.sentiment.vader import SentimentIntensityAnalyzer\n",
    "from nltk.sentiment import SentimentAnalyzer"
   ]
  },
  {
   "cell_type": "markdown",
   "metadata": {},
   "source": [
    "## Carga de Dataframe"
   ]
  },
  {
   "cell_type": "code",
   "execution_count": 2,
   "metadata": {},
   "outputs": [],
   "source": [
    "df1 = pd.read_csv(r'dataframe\\df1.csv')\n",
    "df = pd.read_csv(r'dataframe\\df.csv')"
   ]
  },
  {
   "cell_type": "markdown",
   "metadata": {},
   "source": [
    "## Funcion 1\n",
    "\n"
   ]
  },
  {
   "cell_type": "markdown",
   "metadata": {},
   "source": [
    "- def developer( desarrollador : str ):<br> \n",
    "Cantidad de items y porcentaje de contenido Free por año según empresa desarrolladora.<br> \n",
    "- Ejemplo de retorno:"
   ]
  },
  {
   "cell_type": "code",
   "execution_count": 197,
   "metadata": {},
   "outputs": [
    {
     "data": {
      "text/plain": [
       "Index(['title', 'id', 'developer', 'Añio', 'price'], dtype='object')"
      ]
     },
     "execution_count": 197,
     "metadata": {},
     "output_type": "execute_result"
    }
   ],
   "source": [
    "#df1.rename(columns={'release_year': 'Añio'}, inplace=True)\n",
    "df1.columns"
   ]
  },
  {
   "cell_type": "code",
   "execution_count": 4,
   "metadata": {},
   "outputs": [],
   "source": [
    "def developer( desarrollador : str ):\n",
    "\n",
    "      #daraframe filtrando el desarrollador, agrupado por ano y contando los juegos por ano\n",
    "      df_total = df1[df1['developer']==desarrollador].groupby(['Añio'])['id'].count()\n",
    "\n",
    "      #daraframe filtrando el desarrollador y juego free,  agrupado por año y contando los juegos por año\n",
    "      df_free = df1[(df1['developer']==desarrollador) & (df1['price']==0)].groupby(['Añio'])['id'].count()\n",
    "\n",
    "      #Se crea une el dataframe total con los que salen gratis\n",
    "      df_nuevo = pd.merge(df_total,df_free, on='Añio', how='left' )\n",
    "\n",
    "      #Llena con ceros los valores NAN\n",
    "      df_nuevo.fillna(0, inplace=True)\n",
    "\n",
    "      #Crea la columna de porcentaje de contenido gratis\n",
    "      df_nuevo['Contenido Free'] = round(df_nuevo['id_y']*100/df_nuevo['id_x'],0)\n",
    "\n",
    "      #Borra la columna id_y\n",
    "      df_nuevo.drop(['id_y'], axis=1, inplace=True)\n",
    "\n",
    "      #Renombra la columna id_x\n",
    "      df_nuevo.rename(columns={ 'id_x': 'Cantidad de Items'}, inplace=True)\n",
    "\n",
    "      #Transforma lo que arroja el groupby por un dataframe \"real\"\n",
    "      df_nuevo = df_nuevo.reset_index()\n",
    "\n",
    "      #transforma la columna contenido Free a integer\n",
    "      df_nuevo['Contenido Free'] = df_nuevo['Contenido Free'].astype('int')\n",
    "\n",
    "      #Agrega porcentaje % a la columna contenido free\n",
    "      df_nuevo['Contenido Free'] = df_nuevo['Contenido Free'].map(lambda x: f'{x}%')\n",
    "\n",
    "      #Quita los indices naturales de los dataframe que aparecen a la izquierda\n",
    "      #Pense se mostraba un datafame\n",
    "      #print(df_nuevo.to_string(index=False))\n",
    "\n",
    "      #Pregunte como se deberia mostrar la informacion y me dijeron que lo hiciera en un diccionario\n",
    "      dic = df_nuevo.to_dict('list')\n",
    "      dic_return = {} \n",
    "\n",
    "      for i in range(0, len(df_nuevo)):\n",
    "          dic1 = {'Año': dic['Añio'][i], \n",
    "                  'Cantidad de Items': dic['Cantidad de Items'][i], \n",
    "                  'Contenido Free': dic['Contenido Free'][i]}\n",
    "          dic_return[i] = dic1\n",
    "\n",
    "      return dic_return"
   ]
  },
  {
   "cell_type": "code",
   "execution_count": 5,
   "metadata": {},
   "outputs": [
    {
     "data": {
      "text/plain": [
       "{0: {'Año': 1998, 'Cantidad de Items': 1, 'Contenido Free': '0%'},\n",
       " 1: {'Año': 1999, 'Cantidad de Items': 1, 'Contenido Free': '0%'},\n",
       " 2: {'Año': 2000, 'Cantidad de Items': 2, 'Contenido Free': '0%'},\n",
       " 3: {'Año': 2001, 'Cantidad de Items': 1, 'Contenido Free': '0%'},\n",
       " 4: {'Año': 2003, 'Cantidad de Items': 1, 'Contenido Free': '0%'},\n",
       " 5: {'Año': 2004, 'Cantidad de Items': 5, 'Contenido Free': '0%'},\n",
       " 6: {'Año': 2006, 'Cantidad de Items': 2, 'Contenido Free': '0%'},\n",
       " 7: {'Año': 2007, 'Cantidad de Items': 3, 'Contenido Free': '33%'},\n",
       " 8: {'Año': 2008, 'Cantidad de Items': 1, 'Contenido Free': '0%'},\n",
       " 9: {'Año': 2009, 'Cantidad de Items': 1, 'Contenido Free': '0%'},\n",
       " 10: {'Año': 2010, 'Cantidad de Items': 2, 'Contenido Free': '50%'},\n",
       " 11: {'Año': 2011, 'Cantidad de Items': 1, 'Contenido Free': '0%'},\n",
       " 12: {'Año': 2012, 'Cantidad de Items': 1, 'Contenido Free': '0%'},\n",
       " 13: {'Año': 2017, 'Cantidad de Items': 2, 'Contenido Free': '0%'}}"
      ]
     },
     "execution_count": 5,
     "metadata": {},
     "output_type": "execute_result"
    }
   ],
   "source": [
    "developer('Valve')"
   ]
  },
  {
   "cell_type": "markdown",
   "metadata": {},
   "source": [
    "## Funcion 2"
   ]
  },
  {
   "cell_type": "markdown",
   "metadata": {},
   "source": [
    "- def userdata( User_id : str ):<br> \n",
    "Debe devolver cantidad de dinero gastado por el usuario, el porcentaje <br>\n",
    " de recomendación en base a reviews.recommend y cantidad de items.<br>\n",
    "- Ejemplo de retorno: <br>\n",
    "{\"Usuario X\" : us213ndjss09sdf, \"Dinero gastado\": 200 USD, \"% de recomendación\": 20%, \"cantidad de items\": 5}"
   ]
  },
  {
   "cell_type": "code",
   "execution_count": 9,
   "metadata": {},
   "outputs": [],
   "source": [
    "def userdata( User_id : str ):\n",
    "\n",
    "    #Filtra los datos del user_id\n",
    "    df_nuevo = df[df['user_id']== User_id]\n",
    "\n",
    "    #Dinero gastado por el usuario\n",
    "    gasto = str(round(df_nuevo['price'].sum(),2))+' USD'\n",
    "\n",
    "    #Cantidad de items comprados\n",
    "    n_items = df_nuevo['item_name'].count()\n",
    "\n",
    "    #Cantidad de Juegos recomendados\n",
    "    n_reco = df_nuevo['recommend'].sum()\n",
    "\n",
    "    #Porcentaje de\n",
    "    por_reco = str(n_reco*100/n_items) + '%'\n",
    "\n",
    "    #Muestra los resultados en un diccionario y con el formato adecuado\n",
    "    return {\"Usuario X\" : str(User_id), \n",
    "           \"Dinero gastado\": str(gasto), \n",
    "           \"% de recomendación\": str(por_reco),\n",
    "           \"cantidad de items\": int(n_items)  \n",
    "           }"
   ]
  },
  {
   "cell_type": "code",
   "execution_count": 10,
   "metadata": {},
   "outputs": [
    {
     "name": "stdout",
     "output_type": "stream",
     "text": [
      "{'Usuario X': '76561197970982479', 'Dinero gastado': '29.98 USD', '% de recomendación': '100.0%', 'cantidad de items': 2}\n"
     ]
    }
   ],
   "source": [
    "userdata('76561197970982479')"
   ]
  },
  {
   "cell_type": "markdown",
   "metadata": {},
   "source": [
    "## Funcion 3"
   ]
  },
  {
   "cell_type": "markdown",
   "metadata": {},
   "source": [
    "- def UserForGenre( genero : str ):<br> \n",
    "Debe devolver el usuario que acumula más horas jugadas para el género<br> \n",
    "dado y una lista de la acumulación de horas jugadas por año de lanzamiento.<br>\n",
    "- Ejemplo de retorno: {\"Usuario con más horas jugadas para Género X\" : us213ndjss09sdf, <br>\n",
    "\"Horas jugadas\":[{Año: 2013, Horas: 203}, {Año: 2012, Horas: 100}, {Año: 2011, Horas: 23}]}"
   ]
  },
  {
   "cell_type": "code",
   "execution_count": 202,
   "metadata": {},
   "outputs": [],
   "source": [
    "def UserForGenre(genero : str):\n",
    "    genero = genero.lower()\n",
    "    genero = genero.title()\n",
    "    max_horas_ano = None\n",
    "    max_horas = 0\n",
    "    max_user = None  # Nuevo: mantener un registro del usuario con más horas jugadas\n",
    "    horas_por_ano = {}\n",
    "    \n",
    "    for index, row in df.iterrows():\n",
    "        if genero in row['genres']:\n",
    "\n",
    "            # Obtener el año de la fecha de lanzamiento\n",
    "            year = row['release_year']\n",
    "            \n",
    "            # Sumar las horas jugadas\n",
    "            horas_jugadas = row['playtime_forever']\n",
    "            \n",
    "            if year not in horas_por_ano:\n",
    "                horas_por_ano[year] = 0\n",
    "                \n",
    "            horas_por_ano[year] += horas_jugadas\n",
    "            \n",
    "            if horas_por_ano[year] > max_horas:\n",
    "                max_horas = horas_por_ano[year]\n",
    "                max_horas_ano = year\n",
    "                max_user = row['item_id_x']\n",
    "                \n",
    "    #Para mostrar de manera adecuada\n",
    "    lista=[]\n",
    "    \n",
    "    for i,k in enumerate(horas_por_ano):\n",
    "        dic = {'Año':k, 'Horas':horas_por_ano[k]}\n",
    "        lista.append(dic)            \n",
    "    \n",
    "    res = {\n",
    "        \n",
    "        \"Usuario con más horas jugadas para Género X\": max_user, \n",
    "        \"Horas jugadas\": lista\n",
    "         \n",
    "    }\n",
    "            \n",
    "    return res\n",
    "    "
   ]
  },
  {
   "cell_type": "code",
   "execution_count": 203,
   "metadata": {},
   "outputs": [
    {
     "data": {
      "text/plain": [
       "{'Usuario con más horas jugadas para Género X': 730,\n",
       " 'Horas jugadas': [{'Año': 2009, 'Horas': 2083426.0},\n",
       "  {'Año': 2014, 'Horas': 4958697.0},\n",
       "  {'Año': 2011, 'Horas': 3406585.0},\n",
       "  {'Año': 2012, 'Horas': 9780509.0},\n",
       "  {'Año': 2016, 'Horas': 1598558.0},\n",
       "  {'Año': 2013, 'Horas': 7400872.0},\n",
       "  {'Año': 2004, 'Horas': 949003.0},\n",
       "  {'Año': 2007, 'Horas': 5569545.0},\n",
       "  {'Año': 2017, 'Horas': 2066353.0},\n",
       "  {'Año': 2010, 'Horas': 1248848.0},\n",
       "  {'Año': 2015, 'Horas': 3199116.0},\n",
       "  {'Año': 2002, 'Horas': 5066.0},\n",
       "  {'Año': 2006, 'Horas': 195114.0},\n",
       "  {'Año': 1995, 'Horas': 8811.0},\n",
       "  {'Año': 2003, 'Horas': 381631.0},\n",
       "  {'Año': 1998, 'Horas': 33208.0},\n",
       "  {'Año': 2005, 'Horas': 200186.0},\n",
       "  {'Año': 2008, 'Horas': 568260.0},\n",
       "  {'Año': 1990, 'Horas': 22675.0},\n",
       "  {'Año': 1999, 'Horas': 164897.0},\n",
       "  {'Año': 2000, 'Horas': 265964.0},\n",
       "  {'Año': 2001, 'Horas': 2748.0},\n",
       "  {'Año': 1997, 'Horas': 12134.0},\n",
       "  {'Año': 1994, 'Horas': 1377.0},\n",
       "  {'Año': 1993, 'Horas': 7.0},\n",
       "  {'Año': 1992, 'Horas': 855.0},\n",
       "  {'Año': 1991, 'Horas': 715.0}]}"
      ]
     },
     "execution_count": 203,
     "metadata": {},
     "output_type": "execute_result"
    }
   ],
   "source": [
    "UserForGenre('Action')"
   ]
  },
  {
   "cell_type": "markdown",
   "metadata": {},
   "source": [
    "## Funcion 4"
   ]
  },
  {
   "cell_type": "markdown",
   "metadata": {},
   "source": [
    "- def best_developer_year( año : int ):<br> \n",
    "Devuelve el top 3 de desarrolladores con juegos MÁS recomendados por usuarios para el año dado.<br>\n",
    " (reviews.recommend = True y comentarios positivos)<br>\n",
    "- Ejemplo de retorno: [{\"Puesto 1\" : X}, {\"Puesto 2\" : Y},{\"Puesto 3\" : Z}]"
   ]
  },
  {
   "cell_type": "code",
   "execution_count": 204,
   "metadata": {},
   "outputs": [],
   "source": [
    "def best_developer_year(year: int):\n",
    "    # Verificar si el año es igual a -1 y mostrar un mensaje personalizado\n",
    "    if year == -1:\n",
    "        return \"El año ingresado es -1, lo cual no es válido.\"\n",
    "\n",
    "    # Verificar que el año sea un número entero\n",
    "    if not isinstance(year, int):\n",
    "        return \"El año debe ser un número entero.\"\n",
    "\n",
    "    # Verificar que el año ingresado esté en la columna 'year_integer'\n",
    "    if year not in df['posted_year'].unique():\n",
    "        return \"El año no se encuentra en la columna 'posted_year'.\"\n",
    "\n",
    "    # Filtrar el dataset para obtener solo las filas correspondientes al año dado\n",
    "    juegos_del_año = df[df['posted_year'] == year]\n",
    "\n",
    "    # Calcular la cantidad de recomendaciones para cada juego\n",
    "    recomendaciones_por_juego = juegos_del_año.groupby('developer')['recommend'].sum().reset_index()\n",
    "\n",
    "    # Ordenar los juegos por la cantidad de recomendaciones en orden descendente\n",
    "    juegos_ordenados = recomendaciones_por_juego.sort_values(by='recommend', ascending=False)\n",
    "\n",
    "    # Tomar los tres primeros lugares\n",
    "    primer_puesto = juegos_ordenados.iloc[0]['developer']\n",
    "    segundo_puesto = juegos_ordenados.iloc[1]['developer']\n",
    "    tercer_puesto = juegos_ordenados.iloc[2]['developer']\n",
    "\n",
    "    # Crear el diccionario con los tres primeros lugares\n",
    "    top_tres = [\n",
    "        {\"Puesto 1\": primer_puesto},\n",
    "        {\"Puesto 2\": segundo_puesto},\n",
    "        {\"Puesto 3\": tercer_puesto}\n",
    "    ]\n",
    "\n",
    "    return top_tres"
   ]
  },
  {
   "cell_type": "code",
   "execution_count": 205,
   "metadata": {},
   "outputs": [
    {
     "data": {
      "text/plain": [
       "[{'Puesto 1': 'Valve'},\n",
       " {'Puesto 2': 'Re-Logic'},\n",
       " {'Puesto 3': 'Tripwire Interactive'}]"
      ]
     },
     "execution_count": 205,
     "metadata": {},
     "output_type": "execute_result"
    }
   ],
   "source": [
    "best_developer_year(2011)"
   ]
  },
  {
   "cell_type": "markdown",
   "metadata": {},
   "source": [
    "## Analisis de Sentimiento"
   ]
  },
  {
   "cell_type": "markdown",
   "metadata": {},
   "source": [
    "- def developer_reviews_analysis( desarrolladora : str ):<br> \n",
    "Según el desarrollador,se devuelve un diccionario con el nombre del desarrollador como<br>\n",
    "llave y una lista con la cantidad total de registros de reseñas de usuarios que se encuentren<br>\n",
    "categorizados con un análisis de sentimiento como valor positivo o negativo.<br>\n",
    "- Ejemplo de retorno: {'Valve' : [Negative = 182, Positive = 278]}"
   ]
  },
  {
   "cell_type": "markdown",
   "metadata": {},
   "source": [
    "#### Analisis de sentimiento del dataframe"
   ]
  },
  {
   "cell_type": "code",
   "execution_count": 206,
   "metadata": {},
   "outputs": [],
   "source": [
    "#Crear una instancia del analizador de sentimientos\n",
    "sia = SentimentIntensityAnalyzer()\n",
    "\n",
    "#'reviews' es la columna que se quiere analizar\n",
    "for index, row in df.iterrows():\n",
    "    text = str(row['review'])\n",
    "    sentiment_scores = sia.polarity_scores(text)\n",
    "\n",
    "    #Extraer los puntajes de sentimiento\n",
    "    compound_score = sentiment_scores['compound']\n",
    "\n",
    "    #Puedes hacer algo con el puntaje compuesto aquí\n",
    "    if compound_score >= 0:\n",
    "        sentiment_label = 'Positive'\n",
    "    else:\n",
    "        sentiment_label = 'Negative'\n",
    "\n",
    "\n",
    "    #Guardar el resultado en una nueva columna \n",
    "    df.at[index, 'sentiment_analysis'] = sentiment_label\n",
    "\n",
    "#Se le agrega una nueva columna al DataFrame, llamada 'sentiment_analysis' con las etiquetas de sentimiento"
   ]
  },
  {
   "cell_type": "markdown",
   "metadata": {},
   "source": [
    "#### Guarda la columna sentimen_analysis en el archivo **df.csv**"
   ]
  },
  {
   "cell_type": "code",
   "execution_count": 207,
   "metadata": {},
   "outputs": [],
   "source": [
    "df.to_csv(os.path.join('dataframe','df.csv'), index=False)"
   ]
  },
  {
   "cell_type": "markdown",
   "metadata": {},
   "source": [
    "##### Gráfica de barras de los valores positivos y negativos"
   ]
  },
  {
   "cell_type": "code",
   "execution_count": 208,
   "metadata": {},
   "outputs": [
    {
     "data": {
      "image/png": "[encoded data removed]",
      "text/plain": [
       "<Figure size 600x300 with 1 Axes>"
      ]
     },
     "metadata": {},
     "output_type": "display_data"
    }
   ],
   "source": [
    "#Grafica de los valores Positivos y Negativos\n",
    "value_counts = df['sentiment_analysis'].value_counts()\n",
    "\n",
    "plt.figure(figsize=(6, 3))\n",
    "#Crea un grafico de barras\n",
    "plt.bar(value_counts.index, value_counts.values, color=['blue','black'])\n",
    "\n",
    "#titulo y titulo de ejes\n",
    "plt.xlabel('Valores')\n",
    "plt.ylabel('Frecuencia')\n",
    "plt.title('Conteo de Sentimiento')\n",
    "plt.show()\n"
   ]
  },
  {
   "cell_type": "markdown",
   "metadata": {},
   "source": [
    "### Funcion **developer_reviews_analysis()**"
   ]
  },
  {
   "cell_type": "code",
   "execution_count": 209,
   "metadata": {},
   "outputs": [],
   "source": [
    "def developer_reviews_analysis(desarrollador : str):\n",
    "    # Filtrar el DataFrame por el año proporcionado\n",
    "    df_filtered = df[df['developer'] == desarrollador]\n",
    "    \n",
    "    # Contar la cantidad de registros por cada análisis de sentimiento\n",
    "    resultados = df_filtered['sentiment_analysis'].value_counts()\n",
    "    \n",
    "    # Si algún análisis de sentimiento está ausente, añádelo con 0\n",
    "    for sentimiento in ['Negative', 'Positive']:\n",
    "        if sentimiento not in resultados:\n",
    "            resultados[sentimiento] = 0\n",
    "    \n",
    "    # Almacenar los resultados en una lista de tuplas\n",
    "    resultados_lista = [(sentimiento, cantidad) for sentimiento, cantidad in resultados.items()]\n",
    "    lista = ['Negative = '+str(resultados.iloc[1]),  'Positive = '+str(resultados.iloc[0]) ]\n",
    "    \n",
    "\n",
    "    #print(*lista, sep=\",\")\n",
    "    return {desarrollador : lista}"
   ]
  },
  {
   "cell_type": "code",
   "execution_count": 210,
   "metadata": {},
   "outputs": [
    {
     "data": {
      "text/plain": [
       "{'Valve': ['Negative = 973', 'Positive = 7566']}"
      ]
     },
     "execution_count": 210,
     "metadata": {},
     "output_type": "execute_result"
    }
   ],
   "source": [
    "developer_reviews_analysis('Valve')"
   ]
  }
 ],
 "metadata": {
  "kernelspec": {
   "display_name": "Python 3",
   "language": "python",
   "name": "python3"
  },
  "language_info": {
   "codemirror_mode": {
    "name": "ipython",
    "version": 3
   },
   "file_extension": ".py",
   "mimetype": "text/x-python",
   "name": "python",
   "nbconvert_exporter": "python",
   "pygments_lexer": "ipython3",
   "version": "3.11.5"
  }
 },
 "nbformat": 4,
 "nbformat_minor": 2
}

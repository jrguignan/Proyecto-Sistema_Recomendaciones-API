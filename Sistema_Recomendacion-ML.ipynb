{
 "cells": [
  {
   "cell_type": "code",
   "execution_count": 1,
   "metadata": {},
   "outputs": [],
   "source": [
    "#libreria para el modelo\n",
    "import pandas as pd\n",
    "import numpy as np\n",
    "from sklearn.feature_extraction.text import TfidfVectorizer\n",
    "from sklearn.metrics.pairwise import linear_kernel\n",
    "\n",
    "#Para Guardar en Parquet\n",
    "import os\n",
    "#import pyarrow as pa\n",
    "#import pyarrow.parquet as pq\n"
   ]
  },
  {
   "cell_type": "markdown",
   "metadata": {},
   "source": [
    "# Carga de Dataframe"
   ]
  },
  {
   "cell_type": "code",
   "execution_count": 2,
   "metadata": {},
   "outputs": [],
   "source": [
    "df1 = pd.read_csv(r'dataframe\\df1.csv')"
   ]
  },
  {
   "cell_type": "code",
   "execution_count": 6,
   "metadata": {},
   "outputs": [
    {
     "data": {
      "text/html": [
       "<div>\n",
       "<style scoped>\n",
       "    .dataframe tbody tr th:only-of-type {\n",
       "        vertical-align: middle;\n",
       "    }\n",
       "\n",
       "    .dataframe tbody tr th {\n",
       "        vertical-align: top;\n",
       "    }\n",
       "\n",
       "    .dataframe thead th {\n",
       "        text-align: right;\n",
       "    }\n",
       "</style>\n",
       "<table border=\"1\" class=\"dataframe\">\n",
       "  <thead>\n",
       "    <tr style=\"text-align: right;\">\n",
       "      <th></th>\n",
       "      <th>genres</th>\n",
       "      <th>title</th>\n",
       "      <th>tags</th>\n",
       "      <th>id</th>\n",
       "      <th>developer</th>\n",
       "      <th>Añio</th>\n",
       "      <th>price</th>\n",
       "    </tr>\n",
       "  </thead>\n",
       "  <tbody>\n",
       "    <tr>\n",
       "      <th>0</th>\n",
       "      <td>['Action', 'Casual', 'Indie', 'Simulation', 'S...</td>\n",
       "      <td>Lost Summoner Kitty</td>\n",
       "      <td>['Strategy', 'Action', 'Indie', 'Casual', 'Sim...</td>\n",
       "      <td>761140</td>\n",
       "      <td>Kotoshiro</td>\n",
       "      <td>2018</td>\n",
       "      <td>4.99</td>\n",
       "    </tr>\n",
       "  </tbody>\n",
       "</table>\n",
       "</div>"
      ],
      "text/plain": [
       "                                              genres                title  \\\n",
       "0  ['Action', 'Casual', 'Indie', 'Simulation', 'S...  Lost Summoner Kitty   \n",
       "\n",
       "                                                tags      id  developer  Añio  \\\n",
       "0  ['Strategy', 'Action', 'Indie', 'Casual', 'Sim...  761140  Kotoshiro  2018   \n",
       "\n",
       "   price  \n",
       "0   4.99  "
      ]
     },
     "execution_count": 6,
     "metadata": {},
     "output_type": "execute_result"
    }
   ],
   "source": [
    "df1.head(1)"
   ]
  },
  {
   "cell_type": "markdown",
   "metadata": {},
   "source": [
    "# Primer Codigo"
   ]
  },
  {
   "cell_type": "code",
   "execution_count": 3,
   "metadata": {},
   "outputs": [],
   "source": [
    "#Defina un objeto vectorizador TF-IDF. Elimine todas las palabras vacías en inglés, como 'the', 'a' \n",
    "tfidf = TfidfVectorizer (stop_words=\"english\")\n",
    "\n",
    "#Construya la matriz TF-IDF requerida ajustando y transformando Los datos\n",
    "tfidf_matrix = tfidf.fit_transform(df1['genres'])\n",
    "\n",
    "#Salida de la forma de tfidf_matrix\n",
    "#print(tfidf_matrix.shape)\n",
    "#Matriz de 22496 filas por 31 columnas\n",
    "\n",
    "#Dado que hemos utilizado el vectorizador TF-IDF, el cálculo del producto escalar nos dará directamente \n",
    "#la puntuación de similitud del coseno. Por lo tanto, usaremos linear_kernel () de sklearn en lugar de \n",
    "#cosine_similarities() ya que es más rápido.\n",
    "\n",
    "# Compute the cosine similarity matrix\n",
    "cosine_sim = linear_kernel(tfidf_matrix, tfidf_matrix)\n",
    "\n",
    "#necesitamos un mecanismo para identificar el índice de una película en nuestro DataFrame de metadatos, dado su título.\n",
    "\n",
    "#Construya un mapa inverso de índices y títulos de películas.\n",
    "indices = pd.Series (df1.index, index=df1['id']).drop_duplicates()\n",
    "\n"
   ]
  },
  {
   "cell_type": "markdown",
   "metadata": {},
   "source": [
    "## Para Guardar la matriz cosine_sim\n",
    " Pero pesa demasiado, mas de 500 MB "
   ]
  },
  {
   "cell_type": "code",
   "execution_count": 5,
   "metadata": {},
   "outputs": [],
   "source": [
    "#Se guarda cosien_sim\n",
    "#(pd.DataFrame(cosine_sim)).to_parquet(os.path.join('dataframe','cosine_sim.parquet'))\n",
    "\n",
    "#Para abrir el archivo\n",
    "#cosine_sim = np.array(pd.read_parquet('dataframe\\\\cosine_sim.parquet'))"
   ]
  },
  {
   "cell_type": "code",
   "execution_count": 10,
   "metadata": {},
   "outputs": [],
   "source": [
    "#Definamos una función que tome el título de una película como entrada y genere una \n",
    "#lista de las 10 películas más similares.\n",
    "\n",
    "def recomendacion_juego (juego_id, cosine_sim=cosine_sim):\n",
    "\n",
    "    idx = indices[juego_id]\n",
    "\n",
    "# Obtenga las puntuaciones de similitud por pares de todas las películas con esa película\n",
    "    sim_scores = list(enumerate (cosine_sim[idx]))\n",
    "\n",
    "# Ordene las películas según las puntuaciones de similitud \n",
    "    sim_scores = sorted (sim_scores, key=lambda x: x[1], reverse=True)\n",
    "\n",
    "# Obtén las puntuaciones de las 10 películas más similares \n",
    "    sim_scores = sim_scores [1:11]\n",
    "\n",
    "# Obtenga Los índices de películas\n",
    "\n",
    "    movie_indices = [i[0] for i in sim_scores]\n",
    "\n",
    "# Devuelve el top 10 de películas más similares \n",
    "    lista = list(df1['id'].iloc[movie_indices])\n",
    "    lista = lista[0:10]\n",
    "    \n",
    "\n",
    "    #Para sacar juegos sin repeticion en los recomendados\n",
    "    a=None\n",
    "    lista_juegos=[]\n",
    "    for i,l in enumerate(lista):\n",
    "        if not(l in lista_juegos) and (l != id):\n",
    "           lista_juegos.append(lista[i])\n",
    "    #del lista_juegos[2]\n",
    "    \n",
    "    \n",
    "    return {\n",
    "          'Juegos recomendados a partir del juego juego_id' : str(juego_id), \n",
    "          'No 1': str(df1[df1['id']==lista_juegos[0]].iloc[0][1]),\n",
    "          'No 2': str(df1[df1['id']==lista_juegos[1]].iloc[0][1]),\n",
    "          'No 3': str(df1[df1['id']==lista_juegos[2]].iloc[0][1]),\n",
    "          'No 4': str(df1[df1['id']==lista_juegos[3]].iloc[0][1]),\n",
    "          'No 5': str(df1[df1['id']==lista_juegos[4]].iloc[0][1])\n",
    "          }"
   ]
  },
  {
   "cell_type": "code",
   "execution_count": 11,
   "metadata": {},
   "outputs": [
    {
     "data": {
      "text/plain": [
       "{'Juegos recomendados a partir del juego juego_id': '670290',\n",
       " 'No 1': 'Snooker-online multiplayer snooker game!',\n",
       " 'No 2': \"Malzbie's Pinball Collection\",\n",
       " 'No 3': 'Zaccaria Pinball - Blackbelt Table',\n",
       " 'No 4': 'Zaccaria Pinball - Bronze Membership',\n",
       " 'No 5': 'Zaccaria Pinball - Cine Star Table'}"
      ]
     },
     "execution_count": 11,
     "metadata": {},
     "output_type": "execute_result"
    }
   ],
   "source": [
    "recomendacion_juego (670290)\n",
    "\n"
   ]
  },
  {
   "cell_type": "markdown",
   "metadata": {},
   "source": [
    "# Segundo Codigo en prueba"
   ]
  },
  {
   "cell_type": "code",
   "execution_count": null,
   "metadata": {},
   "outputs": [],
   "source": [
    "df1.head()"
   ]
  },
  {
   "cell_type": "code",
   "execution_count": 66,
   "metadata": {},
   "outputs": [
    {
     "data": {
      "text/html": [
       "<div>\n",
       "<style scoped>\n",
       "    .dataframe tbody tr th:only-of-type {\n",
       "        vertical-align: middle;\n",
       "    }\n",
       "\n",
       "    .dataframe tbody tr th {\n",
       "        vertical-align: top;\n",
       "    }\n",
       "\n",
       "    .dataframe thead th {\n",
       "        text-align: right;\n",
       "    }\n",
       "</style>\n",
       "<table border=\"1\" class=\"dataframe\">\n",
       "  <thead>\n",
       "    <tr style=\"text-align: right;\">\n",
       "      <th></th>\n",
       "      <th>genres</th>\n",
       "      <th>developer</th>\n",
       "      <th>tags</th>\n",
       "      <th>title</th>\n",
       "    </tr>\n",
       "  </thead>\n",
       "  <tbody>\n",
       "    <tr>\n",
       "      <th>0</th>\n",
       "      <td>['Action', 'Casual', 'Indie', 'Simulation', 'S...</td>\n",
       "      <td>Kotoshiro</td>\n",
       "      <td>['Strategy', 'Action', 'Indie', 'Casual', 'Sim...</td>\n",
       "      <td>Lost Summoner Kitty</td>\n",
       "    </tr>\n",
       "    <tr>\n",
       "      <th>1</th>\n",
       "      <td>['Free to Play', 'Indie', 'RPG', 'Strategy']</td>\n",
       "      <td>Secret Level SRL</td>\n",
       "      <td>['Free to Play', 'Strategy', 'Indie', 'RPG', '...</td>\n",
       "      <td>Ironbound</td>\n",
       "    </tr>\n",
       "    <tr>\n",
       "      <th>2</th>\n",
       "      <td>['Casual', 'Free to Play', 'Indie', 'Simulatio...</td>\n",
       "      <td>Poolians.com</td>\n",
       "      <td>['Free to Play', 'Simulation', 'Sports', 'Casu...</td>\n",
       "      <td>Real Pool 3D - Poolians</td>\n",
       "    </tr>\n",
       "    <tr>\n",
       "      <th>3</th>\n",
       "      <td>['Action', 'Adventure', 'Casual']</td>\n",
       "      <td>彼岸领域</td>\n",
       "      <td>['Action', 'Adventure', 'Casual']</td>\n",
       "      <td>弹炸人2222</td>\n",
       "    </tr>\n",
       "    <tr>\n",
       "      <th>4</th>\n",
       "      <td>['Action', 'Adventure', 'Simulation']</td>\n",
       "      <td>Trickjump Games Ltd</td>\n",
       "      <td>['Action', 'Adventure', 'Simulation', 'FPS', '...</td>\n",
       "      <td>Battle Royale Trainer</td>\n",
       "    </tr>\n",
       "    <tr>\n",
       "      <th>...</th>\n",
       "      <td>...</td>\n",
       "      <td>...</td>\n",
       "      <td>...</td>\n",
       "      <td>...</td>\n",
       "    </tr>\n",
       "    <tr>\n",
       "      <th>22491</th>\n",
       "      <td>['Action', 'Adventure', 'Casual', 'Indie']</td>\n",
       "      <td>Bidoniera Games</td>\n",
       "      <td>['Action', 'Indie', 'Casual', 'Violent', 'Adve...</td>\n",
       "      <td>Kebab it Up!</td>\n",
       "    </tr>\n",
       "    <tr>\n",
       "      <th>22492</th>\n",
       "      <td>['Casual', 'Indie', 'Simulation', 'Strategy']</td>\n",
       "      <td>Nikita \"Ghost_RUS\"</td>\n",
       "      <td>['Strategy', 'Indie', 'Casual', 'Simulation']</td>\n",
       "      <td>Colony On Mars</td>\n",
       "    </tr>\n",
       "    <tr>\n",
       "      <th>22493</th>\n",
       "      <td>['Casual', 'Indie', 'Strategy']</td>\n",
       "      <td>Sacada</td>\n",
       "      <td>['Strategy', 'Indie', 'Casual']</td>\n",
       "      <td>LOGistICAL: South Africa</td>\n",
       "    </tr>\n",
       "    <tr>\n",
       "      <th>22494</th>\n",
       "      <td>['Indie', 'Racing', 'Simulation']</td>\n",
       "      <td>Laush Dmitriy Sergeevich</td>\n",
       "      <td>['Indie', 'Simulation', 'Racing']</td>\n",
       "      <td>Russian Roads</td>\n",
       "    </tr>\n",
       "    <tr>\n",
       "      <th>22495</th>\n",
       "      <td>['Casual', 'Indie']</td>\n",
       "      <td>xropi,stev3ns</td>\n",
       "      <td>['Indie', 'Casual', 'Puzzle', 'Singleplayer', ...</td>\n",
       "      <td>EXIT 2 - Directions</td>\n",
       "    </tr>\n",
       "  </tbody>\n",
       "</table>\n",
       "<p>22496 rows × 4 columns</p>\n",
       "</div>"
      ],
      "text/plain": [
       "                                                  genres  \\\n",
       "0      ['Action', 'Casual', 'Indie', 'Simulation', 'S...   \n",
       "1           ['Free to Play', 'Indie', 'RPG', 'Strategy']   \n",
       "2      ['Casual', 'Free to Play', 'Indie', 'Simulatio...   \n",
       "3                      ['Action', 'Adventure', 'Casual']   \n",
       "4                  ['Action', 'Adventure', 'Simulation']   \n",
       "...                                                  ...   \n",
       "22491         ['Action', 'Adventure', 'Casual', 'Indie']   \n",
       "22492      ['Casual', 'Indie', 'Simulation', 'Strategy']   \n",
       "22493                    ['Casual', 'Indie', 'Strategy']   \n",
       "22494                  ['Indie', 'Racing', 'Simulation']   \n",
       "22495                                ['Casual', 'Indie']   \n",
       "\n",
       "                      developer  \\\n",
       "0                     Kotoshiro   \n",
       "1              Secret Level SRL   \n",
       "2                  Poolians.com   \n",
       "3                          彼岸领域   \n",
       "4           Trickjump Games Ltd   \n",
       "...                         ...   \n",
       "22491           Bidoniera Games   \n",
       "22492        Nikita \"Ghost_RUS\"   \n",
       "22493                    Sacada   \n",
       "22494  Laush Dmitriy Sergeevich   \n",
       "22495             xropi,stev3ns   \n",
       "\n",
       "                                                    tags  \\\n",
       "0      ['Strategy', 'Action', 'Indie', 'Casual', 'Sim...   \n",
       "1      ['Free to Play', 'Strategy', 'Indie', 'RPG', '...   \n",
       "2      ['Free to Play', 'Simulation', 'Sports', 'Casu...   \n",
       "3                      ['Action', 'Adventure', 'Casual']   \n",
       "4      ['Action', 'Adventure', 'Simulation', 'FPS', '...   \n",
       "...                                                  ...   \n",
       "22491  ['Action', 'Indie', 'Casual', 'Violent', 'Adve...   \n",
       "22492      ['Strategy', 'Indie', 'Casual', 'Simulation']   \n",
       "22493                    ['Strategy', 'Indie', 'Casual']   \n",
       "22494                  ['Indie', 'Simulation', 'Racing']   \n",
       "22495  ['Indie', 'Casual', 'Puzzle', 'Singleplayer', ...   \n",
       "\n",
       "                          title  \n",
       "0           Lost Summoner Kitty  \n",
       "1                     Ironbound  \n",
       "2       Real Pool 3D - Poolians  \n",
       "3                       弹炸人2222  \n",
       "4         Battle Royale Trainer  \n",
       "...                         ...  \n",
       "22491              Kebab it Up!  \n",
       "22492            Colony On Mars  \n",
       "22493  LOGistICAL: South Africa  \n",
       "22494             Russian Roads  \n",
       "22495       EXIT 2 - Directions  \n",
       "\n",
       "[22496 rows x 4 columns]"
      ]
     },
     "execution_count": 66,
     "metadata": {},
     "output_type": "execute_result"
    }
   ],
   "source": [
    "#filtra las columnas que se usaran para entrenar el modelo\n",
    "features=['genres', 'developer', 'tags', 'title']\n",
    "filters=df1[features]\n",
    "\n"
   ]
  },
  {
   "cell_type": "code",
   "execution_count": null,
   "metadata": {},
   "outputs": [],
   "source": [
    "\n",
    "\n",
    "#Cleaning the data by making all the words in Lower case. \n",
    "def clean_data(x):\n",
    "\n",
    "     return str.lower(x.replace(\" \", \"\"))\n",
    "\n",
    "for feature in features:\n",
    "\n",
    "    filters[feature] = filters[feature].apply(clean_data)\n",
    "\n",
    "#Ahora podemos crear nuestra \"sopa de metadatos\", que es una cadena que contiene todos los metadatos \n",
    "#que queremos alimentar a nuestro vectorizador.\n",
    "\n",
    "def create_soup(x):\n",
    "\n",
    "    return x['genres'] + ' ' + x['developer']+ ' ' +x['tags']+ ' ' + x['title']\n",
    "\n",
    "filters['soup'] = filters.apply(create_soup, axis=1)    "
   ]
  },
  {
   "cell_type": "code",
   "execution_count": null,
   "metadata": {},
   "outputs": [],
   "source": [
    "\n",
    "\n",
    "#Los siguientes pasos son los mismos que hicimos con nuestro recomendador basado en la descripción de \n",
    "#la trama. Una diferencia importante es que usamos CountVectorizer () en lugar de TF-IDF.\n",
    "\n",
    "# Import CountVectorizer and create the count matrix\n",
    "\n",
    "from sklearn.feature_extraction. text import CountVectorizer\n",
    "\n",
    "count = CountVectorizer (stop_words='english') \n",
    "count_matrix = count.fit_transform(filters['soup'])\n",
    "\n",
    "# Compute the Cosine Similarity matrix based on the count_matrix from sklearn.metrics. \n",
    "#pairwise import cosine_similarity\n",
    "\n",
    "cosine_sim2 = cosine_similarity (count_matrix, count_matrix)"
   ]
  },
  {
   "cell_type": "code",
   "execution_count": null,
   "metadata": {},
   "outputs": [],
   "source": [
    "# Restablezca el índice de nuestro DataFrame principal y construya el mapeo inverso como antes filters-filters.reset_index()\n",
    "\n",
    "indices = pd.Series (filters.index, index=filters['title'])"
   ]
  }
 ],
 "metadata": {
  "kernelspec": {
   "display_name": "Python 3",
   "language": "python",
   "name": "python3"
  },
  "language_info": {
   "codemirror_mode": {
    "name": "ipython",
    "version": 3
   },
   "file_extension": ".py",
   "mimetype": "text/x-python",
   "name": "python",
   "nbconvert_exporter": "python",
   "pygments_lexer": "ipython3",
   "version": "3.11.5"
  }
 },
 "nbformat": 4,
 "nbformat_minor": 2
}

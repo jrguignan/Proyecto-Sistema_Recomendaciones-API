{
 "cells": [
  {
   "cell_type": "code",
   "execution_count": 88,
   "metadata": {},
   "outputs": [],
   "source": [
    "import pandas as pd\n",
    "import os\n",
    "\n",
    "#libreria para el modelo\n",
    "from sklearn.feature_extraction.text import TfidfVectorizer\n",
    "from sklearn.metrics.pairwise import linear_kernel"
   ]
  },
  {
   "cell_type": "markdown",
   "metadata": {},
   "source": [
    "## Carga de Dataframe"
   ]
  },
  {
   "cell_type": "code",
   "execution_count": 89,
   "metadata": {},
   "outputs": [],
   "source": [
    "df1_redu = pd.read_csv(r'dataframe\\df1_redu.csv')"
   ]
  },
  {
   "cell_type": "code",
   "execution_count": 87,
   "metadata": {},
   "outputs": [
    {
     "data": {
      "text/plain": [
       "(2250, 7)"
      ]
     },
     "execution_count": 87,
     "metadata": {},
     "output_type": "execute_result"
    }
   ],
   "source": [
    "df1_redu.shape"
   ]
  },
  {
   "cell_type": "markdown",
   "metadata": {},
   "source": [
    "Se uso un 20% del dataframe original porque al momento de hacer el render se sobrepasaba la capasidad de ram que ofrece la cuenta gratuita. Se paso de 22496 filas a 2250"
   ]
  },
  {
   "cell_type": "code",
   "execution_count": 81,
   "metadata": {},
   "outputs": [
    {
     "data": {
      "text/html": [
       "<div>\n",
       "<style scoped>\n",
       "    .dataframe tbody tr th:only-of-type {\n",
       "        vertical-align: middle;\n",
       "    }\n",
       "\n",
       "    .dataframe tbody tr th {\n",
       "        vertical-align: top;\n",
       "    }\n",
       "\n",
       "    .dataframe thead th {\n",
       "        text-align: right;\n",
       "    }\n",
       "</style>\n",
       "<table border=\"1\" class=\"dataframe\">\n",
       "  <thead>\n",
       "    <tr style=\"text-align: right;\">\n",
       "      <th></th>\n",
       "      <th>genres</th>\n",
       "      <th>title</th>\n",
       "      <th>tags</th>\n",
       "      <th>id</th>\n",
       "      <th>developer</th>\n",
       "      <th>Añio</th>\n",
       "      <th>price</th>\n",
       "    </tr>\n",
       "  </thead>\n",
       "  <tbody>\n",
       "    <tr>\n",
       "      <th>1545</th>\n",
       "      <td>['Casual', 'Free to Play', 'Indie', 'Simulatio...</td>\n",
       "      <td>Real Pool 3D - Poolians</td>\n",
       "      <td>['Free to Play', 'Simulation', 'Sports', 'Casu...</td>\n",
       "      <td>670290</td>\n",
       "      <td>Poolians.com</td>\n",
       "      <td>2017</td>\n",
       "      <td>0.0</td>\n",
       "    </tr>\n",
       "  </tbody>\n",
       "</table>\n",
       "</div>"
      ],
      "text/plain": [
       "                                                 genres  \\\n",
       "1545  ['Casual', 'Free to Play', 'Indie', 'Simulatio...   \n",
       "\n",
       "                        title  \\\n",
       "1545  Real Pool 3D - Poolians   \n",
       "\n",
       "                                                   tags      id     developer  \\\n",
       "1545  ['Free to Play', 'Simulation', 'Sports', 'Casu...  670290  Poolians.com   \n",
       "\n",
       "      Añio  price  \n",
       "1545  2017    0.0  "
      ]
     },
     "execution_count": 81,
     "metadata": {},
     "output_type": "execute_result"
    }
   ],
   "source": [
    "#  df1_redu = df1.sample(frac=0.1)\n",
    "#  df1_redu.reset_index(drop=True, inplace=True)\n",
    "#  df1_redu[df1_redu['id']==670290]"
   ]
  },
  {
   "cell_type": "code",
   "execution_count": 83,
   "metadata": {},
   "outputs": [],
   "source": [
    "#df1_redu.to_csv(os.path.join('dataframe','df1_redu.csv'), index=False)"
   ]
  },
  {
   "cell_type": "markdown",
   "metadata": {},
   "source": [
    "## Crea la matriz de Cosine Similarity"
   ]
  },
  {
   "cell_type": "code",
   "execution_count": 91,
   "metadata": {},
   "outputs": [],
   "source": [
    "#Defina un objeto vectorizador TF-IDF. Elimine todas las palabras vacías en inglés, como 'the', 'a' \n",
    "tfidf = TfidfVectorizer (stop_words=\"english\")\n",
    "\n",
    "#Construya la matriz TF-IDF requerida ajustando y transformando Los datos\n",
    "tfidf_matrix = tfidf.fit_transform(df1_redu['genres'])\n",
    "\n",
    "#Salida de la forma de tfidf_matrix\n",
    "#print(tfidf_matrix.shape)\n",
    "#Matriz de 22496 filas por 31 columnas\n",
    "\n",
    "#Dado que hemos utilizado el vectorizador TF-IDF, el cálculo del producto escalar nos dará directamente \n",
    "#la puntuación de similitud del coseno. Por lo tanto, usaremos linear_kernel () de sklearn en lugar de \n",
    "#cosine_similarities() ya que es más rápido.\n",
    "\n",
    "# Compute the cosine similarity matrix\n",
    "cosine_sim = linear_kernel(tfidf_matrix, tfidf_matrix)\n",
    "\n",
    "#necesitamos un mecanismo para identificar el índice de una película en nuestro DataFrame de metadatos, dado su título.\n",
    "\n",
    "#Construya un mapa inverso de índices y títulos de películas.\n",
    "indices = pd.Series (df1_redu.index, index=df1_redu['id']).drop_duplicates()\n",
    "\n"
   ]
  },
  {
   "cell_type": "markdown",
   "metadata": {},
   "source": [
    "## Para Guardar la matriz cosine_sim\n",
    " Pero pesa demasiado, mas de 500 MB para el dataframe completo, no es una buena opcion "
   ]
  },
  {
   "cell_type": "code",
   "execution_count": null,
   "metadata": {},
   "outputs": [],
   "source": [
    "#Se guarda cosine_sim\n",
    "#(pd.DataFrame(cosine_sim)).to_parquet(os.path.join('dataframe','cosine_sim.parquet'))\n",
    "#Para abrir el archivo\n",
    "#cosine_sim = np.array(pd.read_parquet(r'dataframe\\cosine_sim.parquet.gzip'))\n"
   ]
  },
  {
   "cell_type": "markdown",
   "metadata": {},
   "source": [
    "## Funcion de Sistema de Recomendacion"
   ]
  },
  {
   "cell_type": "code",
   "execution_count": 92,
   "metadata": {},
   "outputs": [],
   "source": [
    "#Definamos una función que tome el título de una película como entrada y genere una \n",
    "#lista de las 10 películas más similares.\n",
    "\n",
    "def recomendacion_juego (juego_id, cosine_sim=cosine_sim):\n",
    "\n",
    "    idx = indices[juego_id]\n",
    "\n",
    "# Obtenga las puntuaciones de similitud por pares de todas las películas con esa película\n",
    "    sim_scores = list(enumerate (cosine_sim[idx]))\n",
    "\n",
    "# Ordene las películas según las puntuaciones de similitud \n",
    "    sim_scores = sorted (sim_scores, key=lambda x: x[1], reverse=True)\n",
    "\n",
    "# Obtén las puntuaciones de las 10 películas más similares \n",
    "    sim_scores = sim_scores [1:11]\n",
    "\n",
    "# Obtenga Los índices de películas\n",
    "\n",
    "    movie_indices = [i[0] for i in sim_scores]\n",
    "\n",
    "# Devuelve el top 10 de películas más similares \n",
    "    lista = list(df1_redu['id'].iloc[movie_indices])\n",
    "    lista = lista[0:10]\n",
    "    \n",
    "\n",
    "    #Para sacar juegos sin repeticion en los recomendados\n",
    "    a=None\n",
    "    lista_juegos=[]\n",
    "    for i,l in enumerate(lista):\n",
    "        if not(l in lista_juegos) and (l != id):\n",
    "           lista_juegos.append(lista[i])\n",
    "    #del lista_juegos[2]\n",
    "    \n",
    "    \n",
    "    return {\n",
    "          'Juegos recomendados a partir del juego juego_id' : str(juego_id), \n",
    "          'No 1': str(df1_redu[df1_redu['id']==lista_juegos[0]].iloc[0][1]),\n",
    "          'No 2': str(df1_redu[df1_redu['id']==lista_juegos[1]].iloc[0][1]),\n",
    "          'No 3': str(df1_redu[df1_redu['id']==lista_juegos[2]].iloc[0][1]),\n",
    "          'No 4': str(df1_redu[df1_redu['id']==lista_juegos[3]].iloc[0][1]),\n",
    "          'No 5': str(df1_redu[df1_redu['id']==lista_juegos[4]].iloc[0][1])\n",
    "          }"
   ]
  },
  {
   "cell_type": "code",
   "execution_count": 93,
   "metadata": {},
   "outputs": [
    {
     "data": {
      "text/plain": [
       "{'Juegos recomendados a partir del juego juego_id': '670290',\n",
       " 'No 1': 'Zaccaria Pinball - Lucky Fruit Table',\n",
       " 'No 2': 'Zaccaria Pinball - Moon Flight Table',\n",
       " 'No 3': 'Zaccaria Pinball - Soccer Kings Table',\n",
       " 'No 4': 'Pixel Puzzles Ultimate - Puzzle Pack: Desserts',\n",
       " 'No 5': 'Pixel Puzzles Ultimate - Puzzle Pack: Rio'}"
      ]
     },
     "execution_count": 93,
     "metadata": {},
     "output_type": "execute_result"
    }
   ],
   "source": [
    "recomendacion_juego (670290)\n",
    "\n"
   ]
  },
  {
   "cell_type": "markdown",
   "metadata": {},
   "source": [
    "Salida producida entremando el modelo con todos los datos"
   ]
  },
  {
   "cell_type": "markdown",
   "metadata": {},
   "source": [
    " ```\n",
    "{'Juegos recomendados a partir del juego juego_id': '670290',\n",
    " 'No 1': 'Snooker-online multiplayer snooker game!',\n",
    " 'No 2': \"Malzbie's Pinball Collection\",\n",
    " 'No 3': 'Zaccaria Pinball - Blackbelt Table',\n",
    " 'No 4': 'Zaccaria Pinball - Bronze Membership',\n",
    " 'No 5': 'Zaccaria Pinball - Cine Star Table'}\n",
    "```"
   ]
  }
 ],
 "metadata": {
  "kernelspec": {
   "display_name": "Python 3",
   "language": "python",
   "name": "python3"
  },
  "language_info": {
   "codemirror_mode": {
    "name": "ipython",
    "version": 3
   },
   "file_extension": ".py",
   "mimetype": "text/x-python",
   "name": "python",
   "nbconvert_exporter": "python",
   "pygments_lexer": "ipython3",
   "version": "3.11.5"
  }
 },
 "nbformat": 4,
 "nbformat_minor": 2
}

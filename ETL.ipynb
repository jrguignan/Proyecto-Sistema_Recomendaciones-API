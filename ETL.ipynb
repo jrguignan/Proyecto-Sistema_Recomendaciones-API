{
 "cells": [
  {
   "cell_type": "code",
   "execution_count": 4,
   "metadata": {},
   "outputs": [],
   "source": [
    "#importacion de librerias\n",
    "import pandas as pd\n",
    "import numpy as np\n",
    "import json\n",
    "import ast\n",
    "import datetime as dt\n",
    "import os.path\n"
   ]
  },
  {
   "cell_type": "markdown",
   "metadata": {},
   "source": [
    "## Extraccion de Datos"
   ]
  },
  {
   "cell_type": "markdown",
   "metadata": {},
   "source": [
    "los archivos de los datos vienen en archivos .json y vienen anidados"
   ]
  },
  {
   "cell_type": "markdown",
   "metadata": {},
   "source": [
    "### Archivos games"
   ]
  },
  {
   "cell_type": "code",
   "execution_count": 5,
   "metadata": {},
   "outputs": [
    {
     "data": {
      "text/html": [
       "<div>\n",
       "<style scoped>\n",
       "    .dataframe tbody tr th:only-of-type {\n",
       "        vertical-align: middle;\n",
       "    }\n",
       "\n",
       "    .dataframe tbody tr th {\n",
       "        vertical-align: top;\n",
       "    }\n",
       "\n",
       "    .dataframe thead th {\n",
       "        text-align: right;\n",
       "    }\n",
       "</style>\n",
       "<table border=\"1\" class=\"dataframe\">\n",
       "  <thead>\n",
       "    <tr style=\"text-align: right;\">\n",
       "      <th></th>\n",
       "      <th>publisher</th>\n",
       "      <th>genres</th>\n",
       "      <th>app_name</th>\n",
       "      <th>title</th>\n",
       "      <th>url</th>\n",
       "      <th>release_date</th>\n",
       "      <th>tags</th>\n",
       "      <th>reviews_url</th>\n",
       "      <th>specs</th>\n",
       "      <th>price</th>\n",
       "      <th>early_access</th>\n",
       "      <th>id</th>\n",
       "      <th>developer</th>\n",
       "    </tr>\n",
       "  </thead>\n",
       "  <tbody>\n",
       "    <tr>\n",
       "      <th>0</th>\n",
       "      <td>NaN</td>\n",
       "      <td>NaN</td>\n",
       "      <td>NaN</td>\n",
       "      <td>NaN</td>\n",
       "      <td>NaN</td>\n",
       "      <td>NaN</td>\n",
       "      <td>NaN</td>\n",
       "      <td>NaN</td>\n",
       "      <td>NaN</td>\n",
       "      <td>NaN</td>\n",
       "      <td>NaN</td>\n",
       "      <td>NaN</td>\n",
       "      <td>NaN</td>\n",
       "    </tr>\n",
       "    <tr>\n",
       "      <th>1</th>\n",
       "      <td>NaN</td>\n",
       "      <td>NaN</td>\n",
       "      <td>NaN</td>\n",
       "      <td>NaN</td>\n",
       "      <td>NaN</td>\n",
       "      <td>NaN</td>\n",
       "      <td>NaN</td>\n",
       "      <td>NaN</td>\n",
       "      <td>NaN</td>\n",
       "      <td>NaN</td>\n",
       "      <td>NaN</td>\n",
       "      <td>NaN</td>\n",
       "      <td>NaN</td>\n",
       "    </tr>\n",
       "  </tbody>\n",
       "</table>\n",
       "</div>"
      ],
      "text/plain": [
       "  publisher genres app_name title  url release_date tags reviews_url specs  \\\n",
       "0       NaN    NaN      NaN   NaN  NaN          NaN  NaN         NaN   NaN   \n",
       "1       NaN    NaN      NaN   NaN  NaN          NaN  NaN         NaN   NaN   \n",
       "\n",
       "  price early_access   id developer  \n",
       "0   NaN          NaN  NaN       NaN  \n",
       "1   NaN          NaN  NaN       NaN  "
      ]
     },
     "execution_count": 5,
     "metadata": {},
     "output_type": "execute_result"
    }
   ],
   "source": [
    "#Ingesta del archivo games.json\n",
    "games = [] \n",
    "\n",
    "with open(r'C:\\Users\\jrgui\\Documents\\Data PI1\\output_steam_games.json') as file:\n",
    "    for line in file: \n",
    "        data = json.loads(line)\n",
    "        games.append(data)\n",
    "\n",
    "\n",
    "df_games = pd.DataFrame(games)\n",
    "df_games.head(2)"
   ]
  },
  {
   "cell_type": "markdown",
   "metadata": {},
   "source": [
    "### Archivos Reviews"
   ]
  },
  {
   "cell_type": "code",
   "execution_count": 3,
   "metadata": {},
   "outputs": [
    {
     "data": {
      "text/html": [
       "<div>\n",
       "<style scoped>\n",
       "    .dataframe tbody tr th:only-of-type {\n",
       "        vertical-align: middle;\n",
       "    }\n",
       "\n",
       "    .dataframe tbody tr th {\n",
       "        vertical-align: top;\n",
       "    }\n",
       "\n",
       "    .dataframe thead th {\n",
       "        text-align: right;\n",
       "    }\n",
       "</style>\n",
       "<table border=\"1\" class=\"dataframe\">\n",
       "  <thead>\n",
       "    <tr style=\"text-align: right;\">\n",
       "      <th></th>\n",
       "      <th>user_id</th>\n",
       "      <th>user_url</th>\n",
       "      <th>reviews</th>\n",
       "    </tr>\n",
       "  </thead>\n",
       "  <tbody>\n",
       "    <tr>\n",
       "      <th>0</th>\n",
       "      <td>76561197970982479</td>\n",
       "      <td>http://steamcommunity.com/profiles/76561197970...</td>\n",
       "      <td>[{'funny': '', 'posted': 'Posted November 5, 2...</td>\n",
       "    </tr>\n",
       "    <tr>\n",
       "      <th>1</th>\n",
       "      <td>js41637</td>\n",
       "      <td>http://steamcommunity.com/id/js41637</td>\n",
       "      <td>[{'funny': '', 'posted': 'Posted June 24, 2014...</td>\n",
       "    </tr>\n",
       "  </tbody>\n",
       "</table>\n",
       "</div>"
      ],
      "text/plain": [
       "             user_id                                           user_url  \\\n",
       "0  76561197970982479  http://steamcommunity.com/profiles/76561197970...   \n",
       "1            js41637               http://steamcommunity.com/id/js41637   \n",
       "\n",
       "                                             reviews  \n",
       "0  [{'funny': '', 'posted': 'Posted November 5, 2...  \n",
       "1  [{'funny': '', 'posted': 'Posted June 24, 2014...  "
      ]
     },
     "execution_count": 3,
     "metadata": {},
     "output_type": "execute_result"
    }
   ],
   "source": [
    "#Ingesta del archivo reviews.json\n",
    "\n",
    "reviews = []\n",
    "with open(r'C:\\Users\\jrgui\\Documents\\Data PI1\\australian_user_reviews.json', 'r', encoding = 'utf-8') as file:\n",
    "    for line in file.readlines():\n",
    "        reviews.append(ast.literal_eval(line))\n",
    "\n",
    "df_reviews = pd.DataFrame(reviews)\n",
    "df_reviews.head(2)"
   ]
  },
  {
   "cell_type": "code",
   "execution_count": 86,
   "metadata": {},
   "outputs": [
    {
     "data": {
      "text/html": [
       "<div>\n",
       "<style scoped>\n",
       "    .dataframe tbody tr th:only-of-type {\n",
       "        vertical-align: middle;\n",
       "    }\n",
       "\n",
       "    .dataframe tbody tr th {\n",
       "        vertical-align: top;\n",
       "    }\n",
       "\n",
       "    .dataframe thead th {\n",
       "        text-align: right;\n",
       "    }\n",
       "</style>\n",
       "<table border=\"1\" class=\"dataframe\">\n",
       "  <thead>\n",
       "    <tr style=\"text-align: right;\">\n",
       "      <th></th>\n",
       "      <th>user_id</th>\n",
       "      <th>user_url</th>\n",
       "      <th>funny</th>\n",
       "      <th>posted</th>\n",
       "      <th>last_edited</th>\n",
       "      <th>item_id</th>\n",
       "      <th>helpful</th>\n",
       "      <th>recommend</th>\n",
       "      <th>review</th>\n",
       "    </tr>\n",
       "  </thead>\n",
       "  <tbody>\n",
       "    <tr>\n",
       "      <th>0</th>\n",
       "      <td>76561197970982479</td>\n",
       "      <td>http://steamcommunity.com/profiles/76561197970...</td>\n",
       "      <td></td>\n",
       "      <td>Posted November 5, 2011.</td>\n",
       "      <td></td>\n",
       "      <td>1250</td>\n",
       "      <td>No ratings yet</td>\n",
       "      <td>True</td>\n",
       "      <td>Simple yet with great replayability. In my opi...</td>\n",
       "    </tr>\n",
       "    <tr>\n",
       "      <th>1</th>\n",
       "      <td>76561197970982479</td>\n",
       "      <td>http://steamcommunity.com/profiles/76561197970...</td>\n",
       "      <td></td>\n",
       "      <td>Posted July 15, 2011.</td>\n",
       "      <td></td>\n",
       "      <td>22200</td>\n",
       "      <td>No ratings yet</td>\n",
       "      <td>True</td>\n",
       "      <td>It's unique and worth a playthrough.</td>\n",
       "    </tr>\n",
       "  </tbody>\n",
       "</table>\n",
       "</div>"
      ],
      "text/plain": [
       "             user_id                                           user_url funny  \\\n",
       "0  76561197970982479  http://steamcommunity.com/profiles/76561197970...         \n",
       "1  76561197970982479  http://steamcommunity.com/profiles/76561197970...         \n",
       "\n",
       "                     posted last_edited item_id         helpful recommend  \\\n",
       "0  Posted November 5, 2011.                1250  No ratings yet      True   \n",
       "1     Posted July 15, 2011.               22200  No ratings yet      True   \n",
       "\n",
       "                                              review  \n",
       "0  Simple yet with great replayability. In my opi...  \n",
       "1               It's unique and worth a playthrough.  "
      ]
     },
     "execution_count": 86,
     "metadata": {},
     "output_type": "execute_result"
    }
   ],
   "source": [
    "#Desanidar el 2do nivel reviews\n",
    "\n",
    "dfreviews_exp = df_reviews.explode('reviews')\n",
    "dfreviews_nor = pd.json_normalize(dfreviews_exp)\n",
    "dfreviews_nor = pd.json_normalize(dfreviews_exp['reviews'])\n",
    "dfreviews_exp.reset_index(drop=True, inplace=True)\n",
    "dfreviews_nor.reset_index(drop=True, inplace=True)\n",
    "\n",
    "df_reviews = pd.concat([dfreviews_exp.drop('reviews', axis=1), dfreviews_nor], axis=1)\n",
    "df_reviews.head(2)"
   ]
  },
  {
   "cell_type": "markdown",
   "metadata": {},
   "source": [
    "### Archivos Items"
   ]
  },
  {
   "cell_type": "code",
   "execution_count": 87,
   "metadata": {},
   "outputs": [
    {
     "data": {
      "text/html": [
       "<div>\n",
       "<style scoped>\n",
       "    .dataframe tbody tr th:only-of-type {\n",
       "        vertical-align: middle;\n",
       "    }\n",
       "\n",
       "    .dataframe tbody tr th {\n",
       "        vertical-align: top;\n",
       "    }\n",
       "\n",
       "    .dataframe thead th {\n",
       "        text-align: right;\n",
       "    }\n",
       "</style>\n",
       "<table border=\"1\" class=\"dataframe\">\n",
       "  <thead>\n",
       "    <tr style=\"text-align: right;\">\n",
       "      <th></th>\n",
       "      <th>user_id</th>\n",
       "      <th>items_count</th>\n",
       "      <th>steam_id</th>\n",
       "      <th>user_url</th>\n",
       "      <th>items</th>\n",
       "    </tr>\n",
       "  </thead>\n",
       "  <tbody>\n",
       "    <tr>\n",
       "      <th>0</th>\n",
       "      <td>76561197970982479</td>\n",
       "      <td>277</td>\n",
       "      <td>76561197970982479</td>\n",
       "      <td>http://steamcommunity.com/profiles/76561197970...</td>\n",
       "      <td>[{'item_id': '10', 'item_name': 'Counter-Strik...</td>\n",
       "    </tr>\n",
       "    <tr>\n",
       "      <th>1</th>\n",
       "      <td>js41637</td>\n",
       "      <td>888</td>\n",
       "      <td>76561198035864385</td>\n",
       "      <td>http://steamcommunity.com/id/js41637</td>\n",
       "      <td>[{'item_id': '10', 'item_name': 'Counter-Strik...</td>\n",
       "    </tr>\n",
       "  </tbody>\n",
       "</table>\n",
       "</div>"
      ],
      "text/plain": [
       "             user_id  items_count           steam_id  \\\n",
       "0  76561197970982479          277  76561197970982479   \n",
       "1            js41637          888  76561198035864385   \n",
       "\n",
       "                                            user_url  \\\n",
       "0  http://steamcommunity.com/profiles/76561197970...   \n",
       "1               http://steamcommunity.com/id/js41637   \n",
       "\n",
       "                                               items  \n",
       "0  [{'item_id': '10', 'item_name': 'Counter-Strik...  \n",
       "1  [{'item_id': '10', 'item_name': 'Counter-Strik...  "
      ]
     },
     "execution_count": 87,
     "metadata": {},
     "output_type": "execute_result"
    }
   ],
   "source": [
    "#Ingesta del archivo items.json, falta desanidar el 2do nivel de  anidacion\n",
    "\n",
    "items = []\n",
    "with open(r'C:\\Users\\jrgui\\Documents\\Data PI1\\australian_users_items.json', 'r', encoding = 'utf-8') as file:\n",
    "    for line in file.readlines():\n",
    "        items.append(ast.literal_eval(line))\n",
    "\n",
    "df_items = pd.DataFrame(items)\n",
    "df_items.head(2)"
   ]
  },
  {
   "cell_type": "code",
   "execution_count": 88,
   "metadata": {},
   "outputs": [
    {
     "data": {
      "text/html": [
       "<div>\n",
       "<style scoped>\n",
       "    .dataframe tbody tr th:only-of-type {\n",
       "        vertical-align: middle;\n",
       "    }\n",
       "\n",
       "    .dataframe tbody tr th {\n",
       "        vertical-align: top;\n",
       "    }\n",
       "\n",
       "    .dataframe thead th {\n",
       "        text-align: right;\n",
       "    }\n",
       "</style>\n",
       "<table border=\"1\" class=\"dataframe\">\n",
       "  <thead>\n",
       "    <tr style=\"text-align: right;\">\n",
       "      <th></th>\n",
       "      <th>user_id</th>\n",
       "      <th>items_count</th>\n",
       "      <th>steam_id</th>\n",
       "      <th>user_url</th>\n",
       "      <th>item_id</th>\n",
       "      <th>item_name</th>\n",
       "      <th>playtime_forever</th>\n",
       "      <th>playtime_2weeks</th>\n",
       "    </tr>\n",
       "  </thead>\n",
       "  <tbody>\n",
       "    <tr>\n",
       "      <th>0</th>\n",
       "      <td>76561197970982479</td>\n",
       "      <td>277.0</td>\n",
       "      <td>76561197970982479</td>\n",
       "      <td>http://steamcommunity.com/profiles/76561197970...</td>\n",
       "      <td>10</td>\n",
       "      <td>Counter-Strike</td>\n",
       "      <td>6.0</td>\n",
       "      <td>0.0</td>\n",
       "    </tr>\n",
       "    <tr>\n",
       "      <th>1</th>\n",
       "      <td>js41637</td>\n",
       "      <td>888.0</td>\n",
       "      <td>76561198035864385</td>\n",
       "      <td>http://steamcommunity.com/id/js41637</td>\n",
       "      <td>20</td>\n",
       "      <td>Team Fortress Classic</td>\n",
       "      <td>0.0</td>\n",
       "      <td>0.0</td>\n",
       "    </tr>\n",
       "  </tbody>\n",
       "</table>\n",
       "</div>"
      ],
      "text/plain": [
       "             user_id  items_count           steam_id  \\\n",
       "0  76561197970982479        277.0  76561197970982479   \n",
       "1            js41637        888.0  76561198035864385   \n",
       "\n",
       "                                            user_url item_id  \\\n",
       "0  http://steamcommunity.com/profiles/76561197970...      10   \n",
       "1               http://steamcommunity.com/id/js41637      20   \n",
       "\n",
       "               item_name  playtime_forever  playtime_2weeks  \n",
       "0         Counter-Strike               6.0              0.0  \n",
       "1  Team Fortress Classic               0.0              0.0  "
      ]
     },
     "execution_count": 88,
     "metadata": {},
     "output_type": "execute_result"
    }
   ],
   "source": [
    "#Desanidar el 2do nivel items\n",
    "\n",
    "dfitems_exp = df_items.explode('items')\n",
    "dfitems_nor = pd.json_normalize(dfitems_exp['items'])\n",
    "dfitems_exp.reset_index(drop=True, inplace=True)\n",
    "dfitems_nor.reset_index(drop=True, inplace=True)\n",
    "\n",
    "df_items = pd.concat([df_items.drop('items', axis=1), dfitems_nor], axis=1)\n",
    "df_items.head(2)"
   ]
  },
  {
   "cell_type": "markdown",
   "metadata": {},
   "source": [
    "## Limpieza General"
   ]
  },
  {
   "cell_type": "code",
   "execution_count": 89,
   "metadata": {},
   "outputs": [],
   "source": [
    "#Borrar los Nan y null \n",
    "df_games.dropna(inplace=True)\n",
    "df_reviews.dropna(inplace=True)\n",
    "df_items.dropna(inplace=True)\n",
    "\n",
    "#Reinicia el indice por defecto de pandas\n",
    "df_games.reset_index(drop=True, inplace=True)\n",
    "df_reviews.reset_index(drop=True, inplace=True)\n",
    "df_items.reset_index(drop=True, inplace=True)"
   ]
  },
  {
   "cell_type": "markdown",
   "metadata": {},
   "source": [
    "## Transformacion\n",
    " Se crea un dataframe para la mayoria de las funciones"
   ]
  },
  {
   "cell_type": "code",
   "execution_count": 90,
   "metadata": {},
   "outputs": [],
   "source": [
    "#Se une el dataframe de games(id) con el de items(item_id)\n",
    "df1_2 = pd.merge(df_games, df_reviews, how = 'right', left_on ='id', right_on='item_id')\n",
    "df1_2.columns\n",
    "df1_2.drop(['publisher', 'app_name', 'title', 'url', 'last_edited',\n",
    "       'tags', 'reviews_url', 'specs', 'early_access', 'id', 'user_url', 'funny', 'helpful'] , axis=1, inplace=True)"
   ]
  },
  {
   "cell_type": "code",
   "execution_count": 91,
   "metadata": {},
   "outputs": [
    {
     "data": {
      "text/html": [
       "<div>\n",
       "<style scoped>\n",
       "    .dataframe tbody tr th:only-of-type {\n",
       "        vertical-align: middle;\n",
       "    }\n",
       "\n",
       "    .dataframe tbody tr th {\n",
       "        vertical-align: top;\n",
       "    }\n",
       "\n",
       "    .dataframe thead th {\n",
       "        text-align: right;\n",
       "    }\n",
       "</style>\n",
       "<table border=\"1\" class=\"dataframe\">\n",
       "  <thead>\n",
       "    <tr style=\"text-align: right;\">\n",
       "      <th></th>\n",
       "      <th>genres</th>\n",
       "      <th>release_date</th>\n",
       "      <th>price</th>\n",
       "      <th>developer</th>\n",
       "      <th>user_id</th>\n",
       "      <th>posted</th>\n",
       "      <th>item_id</th>\n",
       "      <th>recommend</th>\n",
       "      <th>review</th>\n",
       "    </tr>\n",
       "  </thead>\n",
       "  <tbody>\n",
       "    <tr>\n",
       "      <th>0</th>\n",
       "      <td>[Action]</td>\n",
       "      <td>2009-05-14</td>\n",
       "      <td>19.99</td>\n",
       "      <td>Tripwire Interactive</td>\n",
       "      <td>76561197970982479</td>\n",
       "      <td>Posted November 5, 2011.</td>\n",
       "      <td>1250</td>\n",
       "      <td>True</td>\n",
       "      <td>Simple yet with great replayability. In my opi...</td>\n",
       "    </tr>\n",
       "  </tbody>\n",
       "</table>\n",
       "</div>"
      ],
      "text/plain": [
       "     genres release_date  price             developer            user_id  \\\n",
       "0  [Action]   2009-05-14  19.99  Tripwire Interactive  76561197970982479   \n",
       "\n",
       "                     posted item_id recommend  \\\n",
       "0  Posted November 5, 2011.    1250      True   \n",
       "\n",
       "                                              review  \n",
       "0  Simple yet with great replayability. In my opi...  "
      ]
     },
     "execution_count": 91,
     "metadata": {},
     "output_type": "execute_result"
    }
   ],
   "source": [
    "df1_2.head(1)\n"
   ]
  },
  {
   "cell_type": "code",
   "execution_count": 92,
   "metadata": {},
   "outputs": [],
   "source": [
    "#Se une el dataframe anterior con el dataframe_items, para hacer el dataframe unico con todos los datos necesarios\n",
    "df = pd.merge(df1_2, df_items, how = 'left', left_on ='user_id', right_on='user_id')"
   ]
  },
  {
   "cell_type": "code",
   "execution_count": 93,
   "metadata": {},
   "outputs": [
    {
     "data": {
      "text/plain": [
       "Index(['genres', 'release_date', 'price', 'developer', 'user_id', 'posted',\n",
       "       'item_id_x', 'recommend', 'review', 'items_count', 'steam_id',\n",
       "       'user_url', 'item_id_y', 'item_name', 'playtime_forever',\n",
       "       'playtime_2weeks'],\n",
       "      dtype='object')"
      ]
     },
     "execution_count": 93,
     "metadata": {},
     "output_type": "execute_result"
    }
   ],
   "source": [
    "df.columns"
   ]
  },
  {
   "cell_type": "code",
   "execution_count": 94,
   "metadata": {},
   "outputs": [],
   "source": [
    "df.drop(['steam_id','items_count','user_url','playtime_2weeks', 'item_id_y'] , axis=1, inplace=True)\n"
   ]
  },
  {
   "cell_type": "code",
   "execution_count": 95,
   "metadata": {},
   "outputs": [
    {
     "data": {
      "text/html": [
       "<div>\n",
       "<style scoped>\n",
       "    .dataframe tbody tr th:only-of-type {\n",
       "        vertical-align: middle;\n",
       "    }\n",
       "\n",
       "    .dataframe tbody tr th {\n",
       "        vertical-align: top;\n",
       "    }\n",
       "\n",
       "    .dataframe thead th {\n",
       "        text-align: right;\n",
       "    }\n",
       "</style>\n",
       "<table border=\"1\" class=\"dataframe\">\n",
       "  <thead>\n",
       "    <tr style=\"text-align: right;\">\n",
       "      <th></th>\n",
       "      <th>genres</th>\n",
       "      <th>release_date</th>\n",
       "      <th>price</th>\n",
       "      <th>developer</th>\n",
       "      <th>user_id</th>\n",
       "      <th>posted</th>\n",
       "      <th>item_id_x</th>\n",
       "      <th>recommend</th>\n",
       "      <th>review</th>\n",
       "      <th>item_name</th>\n",
       "      <th>playtime_forever</th>\n",
       "    </tr>\n",
       "  </thead>\n",
       "  <tbody>\n",
       "    <tr>\n",
       "      <th>0</th>\n",
       "      <td>[Action]</td>\n",
       "      <td>2009-05-14</td>\n",
       "      <td>19.99</td>\n",
       "      <td>Tripwire Interactive</td>\n",
       "      <td>76561197970982479</td>\n",
       "      <td>Posted November 5, 2011.</td>\n",
       "      <td>1250</td>\n",
       "      <td>True</td>\n",
       "      <td>Simple yet with great replayability. In my opi...</td>\n",
       "      <td>Counter-Strike</td>\n",
       "      <td>6.0</td>\n",
       "    </tr>\n",
       "  </tbody>\n",
       "</table>\n",
       "</div>"
      ],
      "text/plain": [
       "     genres release_date  price             developer            user_id  \\\n",
       "0  [Action]   2009-05-14  19.99  Tripwire Interactive  76561197970982479   \n",
       "\n",
       "                     posted item_id_x recommend  \\\n",
       "0  Posted November 5, 2011.      1250      True   \n",
       "\n",
       "                                              review       item_name  \\\n",
       "0  Simple yet with great replayability. In my opi...  Counter-Strike   \n",
       "\n",
       "   playtime_forever  \n",
       "0               6.0  "
      ]
     },
     "execution_count": 95,
     "metadata": {},
     "output_type": "execute_result"
    }
   ],
   "source": [
    "df.head(1)"
   ]
  },
  {
   "cell_type": "markdown",
   "metadata": {},
   "source": [
    "#### Se crea una nueva columna **release_year**, solo con el valor del año y se borra **release_date** "
   ]
  },
  {
   "cell_type": "code",
   "execution_count": 96,
   "metadata": {},
   "outputs": [],
   "source": [
    "#Transforma a la columna release_date a datatime\n",
    "df['release_date'] = pd.to_datetime(df['release_date'], errors='coerce')\n",
    "\n",
    "#Crea una nueva columna con el valor de año de release_date\n",
    "df[\"release_year\"] = (df[\"release_date\"].dt.strftime(\"%Y\"))\n",
    "\n",
    "#Cambia la columna release_year a int\n",
    "df.dropna(inplace=True)\n",
    "df[\"release_year\"] = df[\"release_year\"].astype('int')#, errors=\"ignore\")\n",
    "\n",
    "#Borra la columna release_date, ya que no sera necesaria\n",
    "df.drop(['release_date'] , axis=1, inplace=True)\n"
   ]
  },
  {
   "cell_type": "markdown",
   "metadata": {},
   "source": [
    "#### Se crea una nueva columna posted_year, con el valor del añio y se borra **posted**"
   ]
  },
  {
   "cell_type": "code",
   "execution_count": 97,
   "metadata": {},
   "outputs": [],
   "source": [
    "#Guarda el año de la columana posted en una lista\n",
    "#Si no hay un entero se guarda un Nan\n",
    "lista=[]\n",
    "for i in range(0,len(df)):\n",
    "    try:\n",
    "      lista.append(int(df.iloc[i][4][-5:-1]))\n",
    "    except: \n",
    "       lista.append(pd.NA)\n",
    "\n",
    "#Agrega una colunma con el año de posted\n",
    "df['posted_year'] = lista\n",
    "\n",
    "#Limpia el dataframe, ya que hay algunos valores de posted sin año\n",
    "df.dropna(inplace=True)\n",
    "\n",
    "#Se borra la columna posted, ya que solo se necesita el año\n",
    "df.drop(['posted'], axis=1, inplace=True)"
   ]
  },
  {
   "cell_type": "markdown",
   "metadata": {},
   "source": [
    "#### Transforma la columna **price** a float"
   ]
  },
  {
   "cell_type": "code",
   "execution_count": 98,
   "metadata": {},
   "outputs": [
    {
     "data": {
      "text/plain": [
       "array([19.99, 9.99, 6.99, 14.99, 24.99, 'Free to Play', 'Free To Play',\n",
       "       29.99, 'Free', 39.99, 2.99, 4.99, 34.99, 17.99, 0.99, 3.99, 1.99,\n",
       "       7.99, 11.99, 15.99, 59.99, 3.49, 12.99, 59.95, 13.98,\n",
       "       'Play for Free!', 16.99, 8.99, 44.99, 5.99, 49.99, 69.99, 54.99,\n",
       "       160.91, 0.49, 18.99, 23.96, 15.0, 13.99, 13.37, 'Third-party',\n",
       "       79.99, 771.71, 139.92, 'Free Mod', 189.96, 1.87, 99.99, 21.99,\n",
       "       32.99, 7.49, 'Install Now', 0.98, 12.89, 23.99,\n",
       "       'Play WARMACHINE: Tactics Demo'], dtype=object)"
      ]
     },
     "execution_count": 98,
     "metadata": {},
     "output_type": "execute_result"
    }
   ],
   "source": [
    "#Hay strings dentro de la columna price\n",
    "df['price'].unique()"
   ]
  },
  {
   "cell_type": "code",
   "execution_count": 99,
   "metadata": {},
   "outputs": [],
   "source": [
    "#Crea una lista limpia sin string de la columna price, y colocar el valor de cero a los juegos gratis\n",
    "lista=[]\n",
    "for i in range(0,len(df)):\n",
    "    if type(df.iloc[i][1]) == str: \n",
    "        if df.iloc[i][1] in ['Free to Play', 'Free To Play', 'Free', 'Play for Free!','Free Mod']:\n",
    "           lista.append(float(0))#lista.append(float(0)) \n",
    "        else:\n",
    "           lista.append(pd.NA)     \n",
    "    else:\n",
    "        lista.append(df.iloc[i][1])       \n",
    "\n",
    "\n",
    "#Borra la columna price\n",
    "df.drop(['price'], axis=1, inplace=True)  \n",
    "\n",
    "#Crea la nueva columna price a partir de la lista\n",
    "df['price'] = lista  "
   ]
  },
  {
   "cell_type": "code",
   "execution_count": 100,
   "metadata": {},
   "outputs": [
    {
     "data": {
      "text/plain": [
       "array([19.99, 9.99, 6.99, 14.99, 24.99, 0.0, 29.99, 39.99, 2.99, 4.99,\n",
       "       34.99, 17.99, 0.99, 3.99, 1.99, 7.99, 11.99, 15.99, 59.99, 3.49,\n",
       "       12.99, 59.95, 13.98, 16.99, 8.99, 44.99, 5.99, 49.99, 69.99, 54.99,\n",
       "       160.91, 0.49, 18.99, 23.96, 15.0, 13.99, 13.37, <NA>, 79.99,\n",
       "       771.71, 139.92, 189.96, 1.87, 99.99, 21.99, 32.99, 7.49, 0.98,\n",
       "       12.89, 23.99], dtype=object)"
      ]
     },
     "execution_count": 100,
     "metadata": {},
     "output_type": "execute_result"
    }
   ],
   "source": [
    "df['price'].unique()"
   ]
  },
  {
   "cell_type": "markdown",
   "metadata": {},
   "source": [
    "### Se crea un dataframe para la funcion 1 "
   ]
  },
  {
   "cell_type": "code",
   "execution_count": 6,
   "metadata": {},
   "outputs": [],
   "source": [
    "#Se hace una copia de df_games\n",
    "df1 = df_games.copy()\n"
   ]
  },
  {
   "cell_type": "markdown",
   "metadata": {},
   "source": [
    "#### Se crea la columa **release_year** y se manipula la columna **price**"
   ]
  },
  {
   "cell_type": "code",
   "execution_count": 7,
   "metadata": {},
   "outputs": [],
   "source": [
    "#Transforma a la columna release_date a datatime\n",
    "df1['release_date'] = pd.to_datetime(df1['release_date'], errors='coerce')\n",
    "\n",
    "#Crea una nueva columna con el valor de año de release_date\n",
    "df1[\"release_year\"] = (df1[\"release_date\"].dt.strftime(\"%Y\"))\n",
    "\n",
    "#Cambia la columna release_year a int\n",
    "df1.dropna(inplace=True)\n",
    "df1[\"release_year\"] = df1[\"release_year\"].astype('int')#, errors=\"ignore\")\n",
    "\n",
    "#Borra la columna release_date, ya que no sera necesaria\n",
    "df1.drop(['release_date'] , axis=1, inplace=True)\n",
    "\n",
    "\n",
    "###########################################################################\n",
    "\n",
    "\n",
    "#Crea una lista limpia sin string de la columna price, y colocar el valor de cero a los juegos gratis\n",
    "lista=[]\n",
    "for i in range(0,len(df1)):\n",
    "    if type(df1.iloc[i][8]) == str: \n",
    "        if df1.iloc[i][8] in ['Free to Play', 'Free To Play', 'Free', 'Play for Free!','Free Mod']:\n",
    "           lista.append(float(0))\n",
    "        else:\n",
    "           lista.append(pd.NA)     \n",
    "    else:\n",
    "        lista.append(df1.iloc[i][8])       \n",
    "\n",
    "\n",
    "#Borra la columna price\n",
    "df1.drop(['price'], axis=1, inplace=True)  \n",
    "\n",
    "#Crea la nueva columna price a partir de la lista\n",
    "df1['price'] = lista  "
   ]
  },
  {
   "cell_type": "markdown",
   "metadata": {},
   "source": [
    "#### Se borar la columnas que no se necesitaran"
   ]
  },
  {
   "cell_type": "code",
   "execution_count": 8,
   "metadata": {},
   "outputs": [],
   "source": [
    "df1.drop(['publisher', 'app_name', 'url',\n",
    "       'reviews_url', 'specs', 'early_access'] , axis=1, inplace=True)"
   ]
  },
  {
   "cell_type": "markdown",
   "metadata": {},
   "source": [
    "#### Cambia el nombre de la columna **release_year** a **Añio**"
   ]
  },
  {
   "cell_type": "code",
   "execution_count": 9,
   "metadata": {},
   "outputs": [],
   "source": [
    "df1.rename(columns={'release_year': 'Añio'}, inplace=True)"
   ]
  },
  {
   "cell_type": "markdown",
   "metadata": {},
   "source": [
    "## Se guarda el dataframe"
   ]
  },
  {
   "cell_type": "markdown",
   "metadata": {},
   "source": [
    "### Se limpia el dataframe antes de guardar"
   ]
  },
  {
   "cell_type": "code",
   "execution_count": 105,
   "metadata": {},
   "outputs": [],
   "source": [
    "#limpia los Nan y null\n",
    "df.dropna(inplace=True)\n",
    "df1.dropna(inplace=True)\n",
    "\n",
    "#Reinicia los indices\n",
    "df.reset_index(drop=True, inplace=True)\n",
    "df1.reset_index(drop=True, inplace=True)"
   ]
  },
  {
   "cell_type": "markdown",
   "metadata": {},
   "source": [
    "### Verificacion del DataFrame"
   ]
  },
  {
   "cell_type": "code",
   "execution_count": 106,
   "metadata": {},
   "outputs": [],
   "source": [
    "def verificar_tipo_datos(df):\n",
    "    '''\n",
    "    Realiza un análisis de los tipos de datos y la presencia de valores nulos en un DataFrame.\n",
    "\n",
    "    Esta función toma un DataFrame como entrada y devuelve un resumen que incluye información sobre\n",
    "    los tipos de datos en cada columna, el porcentaje de valores no nulos y nulos, así como la\n",
    "    cantidad de valores nulos por columna.\n",
    "\n",
    "    Parameters:\n",
    "        df (pandas.DataFrame): El DataFrame que se va a analizar.\n",
    "\n",
    "    Returns:\n",
    "        pandas.DataFrame: Un DataFrame que contiene el resumen de cada columna, incluyendo:\n",
    "        - 'nombre_campo': Nombre de cada columna.\n",
    "        - 'tipo_datos': Tipos de datos únicos presentes en cada columna.\n",
    "        - 'no_nulos_%': Porcentaje de valores no nulos en cada columna.\n",
    "        - 'nulos_%': Porcentaje de valores nulos en cada columna.\n",
    "        - 'nulos': Cantidad de valores nulos en cada columna.\n",
    "    '''\n",
    "\n",
    "    mi_dict = {\"nombre_campo\": [], \"tipo_datos\": [], \"no_nulos_%\": [], \"nulos_%\": [], \"nulos\": []}\n",
    "\n",
    "    for columna in df.columns:\n",
    "        porcentaje_no_nulos = (df[columna].count() / len(df)) * 100\n",
    "        mi_dict[\"nombre_campo\"].append(columna)\n",
    "        mi_dict[\"tipo_datos\"].append(df[columna].apply(type).unique())\n",
    "        mi_dict[\"no_nulos_%\"].append(round(porcentaje_no_nulos, 2))\n",
    "        mi_dict[\"nulos_%\"].append(round(100-porcentaje_no_nulos, 2))\n",
    "        mi_dict[\"nulos\"].append(df[columna].isnull().sum())\n",
    "\n",
    "    df_info = pd.DataFrame(mi_dict)\n",
    "        \n",
    "    return df_info"
   ]
  },
  {
   "cell_type": "code",
   "execution_count": 107,
   "metadata": {},
   "outputs": [
    {
     "data": {
      "text/html": [
       "<div>\n",
       "<style scoped>\n",
       "    .dataframe tbody tr th:only-of-type {\n",
       "        vertical-align: middle;\n",
       "    }\n",
       "\n",
       "    .dataframe tbody tr th {\n",
       "        vertical-align: top;\n",
       "    }\n",
       "\n",
       "    .dataframe thead th {\n",
       "        text-align: right;\n",
       "    }\n",
       "</style>\n",
       "<table border=\"1\" class=\"dataframe\">\n",
       "  <thead>\n",
       "    <tr style=\"text-align: right;\">\n",
       "      <th></th>\n",
       "      <th>nombre_campo</th>\n",
       "      <th>tipo_datos</th>\n",
       "      <th>no_nulos_%</th>\n",
       "      <th>nulos_%</th>\n",
       "      <th>nulos</th>\n",
       "    </tr>\n",
       "  </thead>\n",
       "  <tbody>\n",
       "    <tr>\n",
       "      <th>0</th>\n",
       "      <td>genres</td>\n",
       "      <td>[&lt;class 'list'&gt;]</td>\n",
       "      <td>100.0</td>\n",
       "      <td>0.0</td>\n",
       "      <td>0</td>\n",
       "    </tr>\n",
       "    <tr>\n",
       "      <th>1</th>\n",
       "      <td>developer</td>\n",
       "      <td>[&lt;class 'str'&gt;]</td>\n",
       "      <td>100.0</td>\n",
       "      <td>0.0</td>\n",
       "      <td>0</td>\n",
       "    </tr>\n",
       "    <tr>\n",
       "      <th>2</th>\n",
       "      <td>user_id</td>\n",
       "      <td>[&lt;class 'str'&gt;]</td>\n",
       "      <td>100.0</td>\n",
       "      <td>0.0</td>\n",
       "      <td>0</td>\n",
       "    </tr>\n",
       "    <tr>\n",
       "      <th>3</th>\n",
       "      <td>item_id_x</td>\n",
       "      <td>[&lt;class 'str'&gt;]</td>\n",
       "      <td>100.0</td>\n",
       "      <td>0.0</td>\n",
       "      <td>0</td>\n",
       "    </tr>\n",
       "    <tr>\n",
       "      <th>4</th>\n",
       "      <td>recommend</td>\n",
       "      <td>[&lt;class 'bool'&gt;]</td>\n",
       "      <td>100.0</td>\n",
       "      <td>0.0</td>\n",
       "      <td>0</td>\n",
       "    </tr>\n",
       "    <tr>\n",
       "      <th>5</th>\n",
       "      <td>review</td>\n",
       "      <td>[&lt;class 'str'&gt;]</td>\n",
       "      <td>100.0</td>\n",
       "      <td>0.0</td>\n",
       "      <td>0</td>\n",
       "    </tr>\n",
       "    <tr>\n",
       "      <th>6</th>\n",
       "      <td>item_name</td>\n",
       "      <td>[&lt;class 'str'&gt;]</td>\n",
       "      <td>100.0</td>\n",
       "      <td>0.0</td>\n",
       "      <td>0</td>\n",
       "    </tr>\n",
       "    <tr>\n",
       "      <th>7</th>\n",
       "      <td>playtime_forever</td>\n",
       "      <td>[&lt;class 'float'&gt;]</td>\n",
       "      <td>100.0</td>\n",
       "      <td>0.0</td>\n",
       "      <td>0</td>\n",
       "    </tr>\n",
       "    <tr>\n",
       "      <th>8</th>\n",
       "      <td>release_year</td>\n",
       "      <td>[&lt;class 'int'&gt;]</td>\n",
       "      <td>100.0</td>\n",
       "      <td>0.0</td>\n",
       "      <td>0</td>\n",
       "    </tr>\n",
       "    <tr>\n",
       "      <th>9</th>\n",
       "      <td>posted_year</td>\n",
       "      <td>[&lt;class 'int'&gt;]</td>\n",
       "      <td>100.0</td>\n",
       "      <td>0.0</td>\n",
       "      <td>0</td>\n",
       "    </tr>\n",
       "    <tr>\n",
       "      <th>10</th>\n",
       "      <td>price</td>\n",
       "      <td>[&lt;class 'float'&gt;]</td>\n",
       "      <td>100.0</td>\n",
       "      <td>0.0</td>\n",
       "      <td>0</td>\n",
       "    </tr>\n",
       "  </tbody>\n",
       "</table>\n",
       "</div>"
      ],
      "text/plain": [
       "        nombre_campo         tipo_datos  no_nulos_%  nulos_%  nulos\n",
       "0             genres   [<class 'list'>]       100.0      0.0      0\n",
       "1          developer    [<class 'str'>]       100.0      0.0      0\n",
       "2            user_id    [<class 'str'>]       100.0      0.0      0\n",
       "3          item_id_x    [<class 'str'>]       100.0      0.0      0\n",
       "4          recommend   [<class 'bool'>]       100.0      0.0      0\n",
       "5             review    [<class 'str'>]       100.0      0.0      0\n",
       "6          item_name    [<class 'str'>]       100.0      0.0      0\n",
       "7   playtime_forever  [<class 'float'>]       100.0      0.0      0\n",
       "8       release_year    [<class 'int'>]       100.0      0.0      0\n",
       "9        posted_year    [<class 'int'>]       100.0      0.0      0\n",
       "10             price  [<class 'float'>]       100.0      0.0      0"
      ]
     },
     "execution_count": 107,
     "metadata": {},
     "output_type": "execute_result"
    }
   ],
   "source": [
    "verificar_tipo_datos(df)"
   ]
  },
  {
   "cell_type": "code",
   "execution_count": 108,
   "metadata": {},
   "outputs": [
    {
     "data": {
      "text/html": [
       "<div>\n",
       "<style scoped>\n",
       "    .dataframe tbody tr th:only-of-type {\n",
       "        vertical-align: middle;\n",
       "    }\n",
       "\n",
       "    .dataframe tbody tr th {\n",
       "        vertical-align: top;\n",
       "    }\n",
       "\n",
       "    .dataframe thead th {\n",
       "        text-align: right;\n",
       "    }\n",
       "</style>\n",
       "<table border=\"1\" class=\"dataframe\">\n",
       "  <thead>\n",
       "    <tr style=\"text-align: right;\">\n",
       "      <th></th>\n",
       "      <th>nombre_campo</th>\n",
       "      <th>tipo_datos</th>\n",
       "      <th>no_nulos_%</th>\n",
       "      <th>nulos_%</th>\n",
       "      <th>nulos</th>\n",
       "    </tr>\n",
       "  </thead>\n",
       "  <tbody>\n",
       "    <tr>\n",
       "      <th>0</th>\n",
       "      <td>title</td>\n",
       "      <td>[&lt;class 'str'&gt;]</td>\n",
       "      <td>100.0</td>\n",
       "      <td>0.0</td>\n",
       "      <td>0</td>\n",
       "    </tr>\n",
       "    <tr>\n",
       "      <th>1</th>\n",
       "      <td>id</td>\n",
       "      <td>[&lt;class 'str'&gt;]</td>\n",
       "      <td>100.0</td>\n",
       "      <td>0.0</td>\n",
       "      <td>0</td>\n",
       "    </tr>\n",
       "    <tr>\n",
       "      <th>2</th>\n",
       "      <td>developer</td>\n",
       "      <td>[&lt;class 'str'&gt;]</td>\n",
       "      <td>100.0</td>\n",
       "      <td>0.0</td>\n",
       "      <td>0</td>\n",
       "    </tr>\n",
       "    <tr>\n",
       "      <th>3</th>\n",
       "      <td>Añio</td>\n",
       "      <td>[&lt;class 'int'&gt;]</td>\n",
       "      <td>100.0</td>\n",
       "      <td>0.0</td>\n",
       "      <td>0</td>\n",
       "    </tr>\n",
       "    <tr>\n",
       "      <th>4</th>\n",
       "      <td>price</td>\n",
       "      <td>[&lt;class 'float'&gt;]</td>\n",
       "      <td>100.0</td>\n",
       "      <td>0.0</td>\n",
       "      <td>0</td>\n",
       "    </tr>\n",
       "  </tbody>\n",
       "</table>\n",
       "</div>"
      ],
      "text/plain": [
       "  nombre_campo         tipo_datos  no_nulos_%  nulos_%  nulos\n",
       "0        title    [<class 'str'>]       100.0      0.0      0\n",
       "1           id    [<class 'str'>]       100.0      0.0      0\n",
       "2    developer    [<class 'str'>]       100.0      0.0      0\n",
       "3         Añio    [<class 'int'>]       100.0      0.0      0\n",
       "4        price  [<class 'float'>]       100.0      0.0      0"
      ]
     },
     "execution_count": 108,
     "metadata": {},
     "output_type": "execute_result"
    }
   ],
   "source": [
    "verificar_tipo_datos(df1)"
   ]
  },
  {
   "cell_type": "markdown",
   "metadata": {},
   "source": [
    "### Se guardan los dataframe transformados y limpios dentro de **\\dataframes**"
   ]
  },
  {
   "cell_type": "code",
   "execution_count": 8,
   "metadata": {},
   "outputs": [],
   "source": [
    "#Se guardan los dataframes en archivos .csv\n",
    "df.to_csv(os.path.join('dataframe','df.csv'), index=False)\n",
    "df1.to_csv(os.path.join('dataframe','df1.csv'), index=False)"
   ]
  }
 ],
 "metadata": {
  "kernelspec": {
   "display_name": "Python 3",
   "language": "python",
   "name": "python3"
  },
  "language_info": {
   "codemirror_mode": {
    "name": "ipython",
    "version": 3
   },
   "file_extension": ".py",
   "mimetype": "text/x-python",
   "name": "python",
   "nbconvert_exporter": "python",
   "pygments_lexer": "ipython3",
   "version": "3.11.5"
  }
 },
 "nbformat": 4,
 "nbformat_minor": 2
}
